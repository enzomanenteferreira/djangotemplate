{
 "cells": [
  {
   "cell_type": "code",
   "execution_count": null,
   "id": "92b88cc2-15c2-492e-8b67-83a75d273bf1",
   "metadata": {},
   "outputs": [],
   "source": [
    "!pip install leafmap"
   ]
  },
  {
   "cell_type": "code",
   "execution_count": 9,
   "id": "3aa92723-159a-4c53-bae5-8ddc22a4ef66",
   "metadata": {},
   "outputs": [],
   "source": [
    "import leafmap\n",
    "\n",
    "mapa = leafmap.Map(layer_ctrl=False)"
   ]
  },
  {
   "cell_type": "code",
   "execution_count": 10,
   "id": "6f36c5f6-32df-4326-8c99-08ede0cb3d25",
   "metadata": {},
   "outputs": [
    {
     "data": {
      "application/vnd.jupyter.widget-view+json": {
       "model_id": "515e25d43d724e6e832e5830d0300650",
       "version_major": 2,
       "version_minor": 0
      },
      "text/plain": [
       "Map(center=[20, 0], controls=(ZoomControl(options=['position', 'zoom_in_text', 'zoom_in_title', 'zoom_out_text…"
      ]
     },
     "execution_count": 10,
     "metadata": {},
     "output_type": "execute_result"
    }
   ],
   "source": [
    "mapa"
   ]
  },
  {
   "cell_type": "code",
   "execution_count": null,
   "id": "d708dee7-860b-41b0-9c6b-7536481320bf",
   "metadata": {},
   "outputs": [],
   "source": []
  }
 ],
 "metadata": {
  "kernelspec": {
   "display_name": "Python 3 (ipykernel)",
   "language": "python",
   "name": "python3"
  },
  "language_info": {
   "codemirror_mode": {
    "name": "ipython",
    "version": 3
   },
   "file_extension": ".py",
   "mimetype": "text/x-python",
   "name": "python",
   "nbconvert_exporter": "python",
   "pygments_lexer": "ipython3",
   "version": "3.11.4"
  }
 },
 "nbformat": 4,
 "nbformat_minor": 5
}
